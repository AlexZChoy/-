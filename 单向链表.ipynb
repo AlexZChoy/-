{
 "cells": [
  {
   "cell_type": "code",
   "execution_count": 1,
   "metadata": {},
   "outputs": [],
   "source": [
    "class listnode:\n",
    "    def __init__(self, val):\n",
    "        # 定义类的构造函数，当创建一个新的 listnode 对象时会自动调用此函数\n",
    "        self.val = val\n",
    "        # 将传入的 val 值赋给当前对象的 val 属性，用于存储节点的值\n",
    "        self.next = None\n",
    "        # next 属性用于指向下一个节点，初始时没有下一个节点，所以设为 None\n",
    "\n",
    "class linklist:\n",
    "    def __init__(self):\n",
    "        self.head = None\n",
    "        # head 属性用于指向链表的头节点，初始时链表为空，所以设为 None\n",
    "        self.len = 0\n",
    "        # len 属性用于记录链表的长度，初始时链表为空，所以长度为 0\n",
    "    \n",
    "    def size(self):\n",
    "        return self.len\n",
    "        # 返回链表的长度\n",
    "    \n",
    "    def insert(self, val, pos):\n",
    "        if pos < 0 or pos > self.len:\n",
    "            # 如果插入位置小于 0 或者大于链表长度, 则抛出 IndexError 异常\n",
    "            raise IndexError(\"Index out of range\")\n",
    "        new_node = listnode(val)\n",
    "        # 创建一个新的 listnode 对象，值为 val\n",
    "        if pos == 0:\n",
    "            # 如果插入位置为 0，则将新节点插入到链表头部\n",
    "            new_node.next = self.head\n",
    "            # 将新节点的 next 属性指向原来的头节点\n",
    "            self.head = new_node\n",
    "            # 将链表的头节点设为新节点\n",
    "        else:\n",
    "            # 如果 pos 不为 0，找到插入位置的前一个节点，并将新节点插入到该节点之后\n",
    "            prev_node = self.head\n",
    "            # 使用 for 循环遍历链表，找到插入位置的前一个节点 prev_node\n",
    "            for i in range(pos - 1):\n",
    "                # 循环 pos - 1 次，找到插入位置的前一个节点 prev_node\n",
    "                prev_node = prev_node.next\n",
    "                # 将 prev_node 指向下一个节点\n",
    "                # 循环结束后，prev_node 将指向插入位置的前一个节点\n",
    "            new_node.next = prev_node.next\n",
    "            # 将新节点的 next 属性指向插入位置的前一个节点的 next 属性，即插入位置的后一个节点\n",
    "            prev_node.next = new_node\n",
    "            # 将插入位置的前一个节点的 next 属性指向新节点，即完成插入操作\n",
    "        self.len += 1\n",
    "        # 链表长度加 1\n",
    "        \n",
    "    def delete(self, pos):\n",
    "        if pos < 0 or pos >= self.len:\n",
    "            # 如果删除位置小于 0 或者大于等于链表长度，抛出 IndexError 异常\n",
    "            raise IndexError(\"Index out of range\")\n",
    "        if pos == 0:\n",
    "            # 如果删除位置为 0，即删除头节点\n",
    "            self.head = self.head.next\n",
    "            # 将头节点设为头节点的下一个节点，即删除头\n",
    "        else:\n",
    "            # 如果删除位置不为 0，找到删除位置的前一个节点，并删除该节点\n",
    "            prev_node = self.head\n",
    "            # 使用 for 循环找到删除位置的前一个节点 prev_node\n",
    "            for i in range(pos - 1):\n",
    "                # 循环 pos - 1 次，找到删除位置的前一个节点 prev_node\n",
    "                prev_node = prev_node.next\n",
    "                # 将 prev_node 指向下一个节点\n",
    "                # 循环结束后，prev_node 将指向删除位置的前一个节点 \n",
    "            prev_node.next = prev_node.next.next\n",
    "            # 将删除位置的前一个节点的 next 属性指向删除位置的后一个节点，即完成删除操作\n",
    "        self.len -= 1\n",
    "        # 链表长度减 1\n",
    "    \n",
    "    def update (self, val, pos):\n",
    "        if pos < 0 or pos >= self.len:\n",
    "            # 如果更新位置小于 0 或者大于等于链表长度，抛出 IndexError 异常\n",
    "            raise IndexError(\"Index out of range\")\n",
    "        cur_node = self.head\n",
    "        # 使用 for 循环找到更新位置的节点\n",
    "        for i in range(pos):\n",
    "            # 循环 pos 次，找到更新位置的节点\n",
    "            cur_node = cur_node.next\n",
    "            # 将 cur_node 指向下一个节点\n",
    "            # 循环结束后，cur_node 将指向更新位置的节点\n",
    "        cur_node.val = val\n",
    "        # 将更新位置的节点的值更新为 val\n",
    "        \n",
    "    def search(self, val):\n",
    "        # 初始化当前节点为链表的头节点，从链表头部开始查找值为 val 的节点\n",
    "        cur_node = self.head\n",
    "        # 使用 while 循环遍历链表，只要当前节点不为 None 就继续循环\n",
    "        while cur_node:\n",
    "            # 检查当前节点的值是否等于 val\n",
    "            if cur_node.val == val:\n",
    "                # 如果找到值为 val 的节点，返回该节点\n",
    "                return cur_node\n",
    "            # 如果当前节点的值不等于 val，将当前节点指向下一个节点，继续查找\n",
    "            cur_node = cur_node.next\n",
    "        # 如果遍历完整个链表都没有找到值为 val 的节点，返回 None\n",
    "        return None\n",
    "    \n",
    "    def index(self, val):\n",
    "        index = 0\n",
    "        # 初始化索引为 0\n",
    "        cur_node = self.head\n",
    "        # 初始化当前节点为链表的头节点，从链表头部开始查找值为 val 的节点\n",
    "        while cur_node:\n",
    "            if cur_node.val == val:\n",
    "                return index\n",
    "            cur_node = cur_node.next\n",
    "            index += 1\n",
    "        return -1\n",
    "        # 如果遍历完整个链表都没有找到值为 val 的节点，返回 -1\n",
    "        \n",
    "    def print_list(self):\n",
    "        cur_node = self.head\n",
    "        # 初始化当前节点为链表的头节点，从链表头部开始遍历链表\n",
    "        while cur_node:\n",
    "            # 打印当前节点的值\n",
    "            print(cur_node.val, end=\"->\")\n",
    "            # 将当前节点指向下一个节点，继续遍历链表\n",
    "            cur_node = cur_node.next\n",
    "        print(\"None\")\n",
    "        # 打印 None，表示链表的结束"
   ]
  },
  {
   "cell_type": "code",
   "execution_count": 2,
   "metadata": {},
   "outputs": [
    {
     "name": "stdout",
     "output_type": "stream",
     "text": [
      "1->None\n",
      "1->2->None\n",
      "1->2->3->None\n",
      "1->4->2->3->None\n"
     ]
    }
   ],
   "source": [
    "l = linklist()\n",
    "l.insert(1, 0)\n",
    "l.print_list()\n",
    "l.insert(2, 1)\n",
    "l.print_list()\n",
    "l.insert(3, 2)\n",
    "l.print_list()\n",
    "l.insert(4, 1)\n",
    "l.print_list()"
   ]
  },
  {
   "cell_type": "code",
   "execution_count": 3,
   "metadata": {},
   "outputs": [
    {
     "name": "stdout",
     "output_type": "stream",
     "text": [
      "4->2->3->None\n"
     ]
    }
   ],
   "source": [
    "l.delete(0)\n",
    "l.print_list()"
   ]
  },
  {
   "cell_type": "code",
   "execution_count": 4,
   "metadata": {},
   "outputs": [
    {
     "name": "stdout",
     "output_type": "stream",
     "text": [
      "4->5->3->None\n"
     ]
    }
   ],
   "source": [
    "l.update(5, 1)\n",
    "l.print_list()"
   ]
  },
  {
   "cell_type": "code",
   "execution_count": 5,
   "metadata": {},
   "outputs": [
    {
     "name": "stdout",
     "output_type": "stream",
     "text": [
      "<__main__.listnode object at 0x10532c670>\n",
      "not found\n"
     ]
    }
   ],
   "source": [
    "node = l.search(3)\n",
    "if node:\n",
    "    print(node)\n",
    "else:\n",
    "    print(\"not found\")\n",
    "\n",
    "node1 = l.search(1)\n",
    "if node1:\n",
    "    print(node1)\n",
    "else:\n",
    "    print(\"not found\")"
   ]
  },
  {
   "cell_type": "code",
   "execution_count": 6,
   "metadata": {},
   "outputs": [
    {
     "name": "stdout",
     "output_type": "stream",
     "text": [
      "2\n"
     ]
    }
   ],
   "source": [
    "x = l.index(3)\n",
    "print(x)"
   ]
  }
 ],
 "metadata": {
  "kernelspec": {
   "display_name": "Python 3",
   "language": "python",
   "name": "python3"
  },
  "language_info": {
   "codemirror_mode": {
    "name": "ipython",
    "version": 3
   },
   "file_extension": ".py",
   "mimetype": "text/x-python",
   "name": "python",
   "nbconvert_exporter": "python",
   "pygments_lexer": "ipython3",
   "version": "3.9.6"
  }
 },
 "nbformat": 4,
 "nbformat_minor": 2
}
