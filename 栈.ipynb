{
 "cells": [
  {
   "cell_type": "markdown",
   "metadata": {},
   "source": [
    "# 用列表实现栈"
   ]
  },
  {
   "cell_type": "code",
   "execution_count": 5,
   "metadata": {},
   "outputs": [],
   "source": [
    "class stack:\n",
    "    def __init__(self):\n",
    "        # 初始化一个空列表来存储栈中的元素\n",
    "        self.stack = []\n",
    "        \n",
    "    def push(self,data):\n",
    "        #向栈中添加一个元素\n",
    "        self.stack.append(data)\n",
    "    \n",
    "    def pop(self):\n",
    "        #如果栈为空，返回\"stack is empty\"；否则，返回栈顶元素并将其从栈中删除\n",
    "        if len(self.stack) == 0:\n",
    "            return \"stack is empty\"\n",
    "        else:\n",
    "            #pop()函数用于移除列表中的一个元素（默认最后一个元素），并且返回该元素的值\n",
    "            return self.stack.pop()\n",
    "        \n",
    "    def top(self):\n",
    "        #如果栈为空，返回\"stack is empty\"；否则，返回栈顶元素\n",
    "        if len(self.stack) == 0:\n",
    "            return \"stack is empty\"\n",
    "        else:\n",
    "            return self.stack[-1]\n",
    "\n",
    "    def isEmpty(self):\n",
    "        #如果栈为空，返回True；否则，返回False\n",
    "        return len(self.stack) == 0\n",
    "\n",
    "    def size(self):\n",
    "        #返回栈的大小\n",
    "        return len(self.stack)\n",
    "    \n",
    "    "
   ]
  },
  {
   "cell_type": "code",
   "execution_count": 6,
   "metadata": {},
   "outputs": [
    {
     "name": "stdout",
     "output_type": "stream",
     "text": [
      "[0, 4]\n",
      "[5, 3]\n",
      "[4, 2]\n",
      "[1, 1]\n"
     ]
    }
   ],
   "source": [
    "stk = stack()\n",
    "\n",
    "stk.push(1)\n",
    "stk.push(4)\n",
    "stk.push(5)\n",
    "stk.push(0)\n",
    "\n",
    "# 只要栈不为空，就输出栈顶元素和栈的大小\n",
    "while not stk.isEmpty():\n",
    "    print([stk.top(),stk.size()])\n",
    "    stk.pop()\n",
    "    "
   ]
  },
  {
   "cell_type": "markdown",
   "metadata": {},
   "source": [
    "# 用单向链表实现栈"
   ]
  },
  {
   "cell_type": "code",
   "execution_count": 7,
   "metadata": {},
   "outputs": [],
   "source": [
    "class node:\n",
    "    def __init__(self,data):\n",
    "        #初始化一个节点，包含数据和下一个节点的指针\n",
    "        self.data = data\n",
    "        self.next = None\n",
    "       \n",
    "class stack1:\n",
    "    def __init__(self):\n",
    "        self.head = None\n",
    "        self.len = 0\n",
    "        \n",
    "    def push(self,data):\n",
    "        #将数据插入栈顶\n",
    "        new_node = node(data)\n",
    "        new_node.next = self.head\n",
    "        self.head = new_node\n",
    "        self.len += 1\n",
    "    \n",
    "    def pop(self):\n",
    "        #将栈顶元素弹出,并返回该元素的值\n",
    "        if self.head == None:\n",
    "            return None\n",
    "        else:\n",
    "            data = self.head.data\n",
    "            self.head = self.head.next\n",
    "            self.len -= 1\n",
    "            return data\n",
    "        \n",
    "    def top(self):\n",
    "        #返回栈顶元素的值\n",
    "        if self.head == None:\n",
    "            return None\n",
    "        else:\n",
    "            return self.head.data\n",
    "        \n",
    "    def size(self):\n",
    "        #返回栈的大小\n",
    "        return self.len\n",
    "\n",
    "    def is_empty(self):\n",
    "        #判断栈是否为空\n",
    "        return self.head == None"
   ]
  },
  {
   "cell_type": "code",
   "execution_count": 8,
   "metadata": {},
   "outputs": [
    {
     "name": "stdout",
     "output_type": "stream",
     "text": [
      "0 5\n",
      "2 4\n",
      "5 3\n",
      "3 2\n",
      "1 1\n"
     ]
    }
   ],
   "source": [
    "stk1 = stack1()\n",
    "\n",
    "stk1.push(1)\n",
    "stk1.push(3)\n",
    "stk1.push(5)\n",
    "stk1.push(2)\n",
    "stk1.push(0)\n",
    "\n",
    "while stk1.is_empty() == False:\n",
    "    print(stk1.top(),stk1.size())\n",
    "    stk1.pop()\n",
    "    "
   ]
  }
 ],
 "metadata": {
  "kernelspec": {
   "display_name": "Python 3",
   "language": "python",
   "name": "python3"
  },
  "language_info": {
   "codemirror_mode": {
    "name": "ipython",
    "version": 3
   },
   "file_extension": ".py",
   "mimetype": "text/x-python",
   "name": "python",
   "nbconvert_exporter": "python",
   "pygments_lexer": "ipython3",
   "version": "3.9.6"
  }
 },
 "nbformat": 4,
 "nbformat_minor": 2
}
